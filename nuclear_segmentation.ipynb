{
 "cells": [
  {
   "cell_type": "markdown",
   "id": "110c006d",
   "metadata": {},
   "source": [
    "# Nuclear segmentation"
   ]
  },
  {
   "cell_type": "markdown",
   "id": "1fc8db31",
   "metadata": {},
   "source": [
    "Using the DAPI staining and cellpose"
   ]
  },
  {
   "cell_type": "code",
   "execution_count": 24,
   "id": "40302b73-6293-48bf-80b8-051dc653ffd1",
   "metadata": {},
   "outputs": [],
   "source": [
    "import imageio as io\n",
    "import pandas as pd\n",
    "import os\n",
    "import matplotlib.pyplot as plt\n",
    "import numpy as np\n",
    "import tifffile\n",
    "from tqdm.notebook import tqdm\n",
    "import pathlib\n",
    "from cellpose import models, core\n",
    "from cellpose.contrib.distributed_segmentation import numpy_array_to_zarr\n",
    "import json\n",
    "from pyometiff import OMETIFFReader\n",
    "import zarr\n",
    "import scanpy as sc"
   ]
  },
  {
   "cell_type": "markdown",
   "id": "2de80d81-0399-4b42-a934-8dbcb8ccd606",
   "metadata": {},
   "source": [
    "## Read in Xenium DAPI\n",
    "\n",
    "In this part we import the DAPI OME TIFF, create a max projection of the different layers."
   ]
  },
  {
   "cell_type": "code",
   "execution_count": 2,
   "id": "318bd07e",
   "metadata": {},
   "outputs": [],
   "source": [
    "experiment_path = '/mnt/sata3/Xenium_Data_Storage_2/20250109__205605__perturb4_mc38baseline/output-XETG00341__0032973__mc38baseline_t1_AG001__20250109__205626'\n",
    "dapi_path = 'morphology.ome.tif'\n",
    "cellpose_training_folder = '/mnt/sata4/cellpose_training'\n",
    "total_path = os.path.join(cellpose_training_folder, os.path.basename(experiment_path))"
   ]
  },
  {
   "cell_type": "code",
   "execution_count": 3,
   "id": "352633b0-14cf-499c-98eb-d2f4511f59dd",
   "metadata": {},
   "outputs": [],
   "source": [
    "import PIL\n",
    "PIL.Image.MAX_IMAGE_PIXELS = 6407680645"
   ]
  },
  {
   "cell_type": "code",
   "execution_count": null,
   "id": "0124e9fd",
   "metadata": {},
   "outputs": [],
   "source": [
    "\n",
    "img_fpath = pathlib.Path(os.path.join(experiment_path, dapi_path))\n",
    "\n",
    "reader = OMETIFFReader(fpath=img_fpath)\n",
    "\n",
    "dapi, metadata, xml_metadata = reader.read()"
   ]
  },
  {
   "cell_type": "code",
   "execution_count": 5,
   "id": "d5f4d31f",
   "metadata": {},
   "outputs": [],
   "source": [
    "dapi = np.max(dapi, axis = 0)\n"
   ]
  },
  {
   "cell_type": "code",
   "execution_count": 6,
   "id": "e2cd534d",
   "metadata": {},
   "outputs": [],
   "source": [
    "chunk_size = (1024, 1024)"
   ]
  },
  {
   "cell_type": "code",
   "execution_count": 7,
   "id": "991e7810-e4c1-4944-87f5-a31c27c5fe94",
   "metadata": {},
   "outputs": [],
   "source": [
    "#maxed_xenium = read_dapi_image(os.path.join(experiment_path, dapi_path), downscale_factor=1)\n",
    "\n",
    "data_zarr = numpy_array_to_zarr(os.path.join(total_path, 'DAPI.zarr'), dapi, chunks=chunk_size)\n"
   ]
  },
  {
   "cell_type": "code",
   "execution_count": 8,
   "id": "9b324d87",
   "metadata": {},
   "outputs": [],
   "source": [
    "data_zarr = zarr.open(os.path.join(total_path, 'DAPI.zarr'), mode='r')"
   ]
  },
  {
   "cell_type": "markdown",
   "id": "59e90c72-a70c-496b-852b-5efe2738496f",
   "metadata": {},
   "source": [
    "## Run cellpose\n",
    "\n",
    "Here, we use the pretrained model to perform a nuclear segmentation with cellpose."
   ]
  },
  {
   "cell_type": "code",
   "execution_count": 9,
   "id": "9760ecd7",
   "metadata": {},
   "outputs": [],
   "source": [
    "\n",
    "mp = r'/home/amonell/piloting/2025_Segmentation_Tutorial/models/MC38_nucleus'"
   ]
  },
  {
   "cell_type": "code",
   "execution_count": 10,
   "id": "4a493eac",
   "metadata": {},
   "outputs": [],
   "source": [
    "import os\n",
    "os.environ['CUDA_LAUNCH_BLOCKING'] = '1'"
   ]
  },
  {
   "cell_type": "code",
   "execution_count": null,
   "id": "03561653",
   "metadata": {},
   "outputs": [],
   "source": [
    "from cellpose_2d_distributed_segmentation import distributed_eval_2d\n",
    "\n",
    "model = models.CellposeModel(pretrained_model= mp)\n",
    "\n",
    "model_kwargs = {'gpu':True, 'pretrained_model': mp}\n",
    "eval_kwargs = {'channels':[0,0],\n",
    "                'diameter':int(model.diam_labels),\n",
    "                'flow_threshold':0.4, \n",
    "                'cellprob_threshold':0,\n",
    "                'do_3D':False\n",
    "}\n",
    "\n",
    "# define myLocalCluster parameters\n",
    "cluster_kwargs = {\n",
    "    'n_workers':1,    # we only have 1 gpu, so no need for more workers\n",
    "    'ncpus':64,\n",
    "    'memory_limit':'380GB',\n",
    "    'threads_per_worker':1,\n",
    "}\n",
    "\n",
    "# run segmentation\n",
    "# segments: zarr array containing labels\n",
    "# boxes: list of bounding boxes around all labels\n",
    "segments, boxes = distributed_eval_2d(\n",
    "    input_zarr=data_zarr,\n",
    "    blocksize=chunk_size,\n",
    "    write_path=os.path.join(total_path, 'DAPI_segmented.zarr'),\n",
    "    model_kwargs=model_kwargs,\n",
    "    eval_kwargs=eval_kwargs,\n",
    "    cluster_kwargs=cluster_kwargs,\n",
    ")"
   ]
  },
  {
   "cell_type": "code",
   "execution_count": 13,
   "id": "3f845c43",
   "metadata": {},
   "outputs": [],
   "source": [
    "segments_array = np.array(segments)"
   ]
  },
  {
   "cell_type": "markdown",
   "id": "c56b2834",
   "metadata": {},
   "source": [
    "Loading in detected transcripts\n"
   ]
  },
  {
   "cell_type": "code",
   "execution_count": 14,
   "id": "136a3f4b",
   "metadata": {},
   "outputs": [],
   "source": [
    "transcripts_file = os.path.join(experiment_path, 'transcripts.parquet')\n",
    "detected_tanscripts = pd.read_parquet(os.path.join(experiment_path, transcripts_file))"
   ]
  },
  {
   "cell_type": "code",
   "execution_count": 15,
   "id": "49846a0c",
   "metadata": {},
   "outputs": [],
   "source": [
    "pixel_size_file = os.path.join(experiment_path, 'experiment.xenium')"
   ]
  },
  {
   "cell_type": "code",
   "execution_count": 16,
   "id": "4430c27a",
   "metadata": {},
   "outputs": [],
   "source": [
    "import json\n",
    "with open(pixel_size_file, 'r') as f:\n",
    "    pixel_size = json.load(f)\n"
   ]
  },
  {
   "cell_type": "code",
   "execution_count": 17,
   "id": "052d9f09",
   "metadata": {},
   "outputs": [],
   "source": [
    "global_x_pixels = detected_tanscripts['x_location']/pixel_size['pixel_size']\n",
    "global_y_pixels = detected_tanscripts['y_location']/pixel_size['pixel_size']\n",
    "global_z_pixels = detected_tanscripts['z_location']/pixel_size['pixel_size']\n"
   ]
  },
  {
   "cell_type": "code",
   "execution_count": 18,
   "id": "f4b97e22",
   "metadata": {},
   "outputs": [],
   "source": [
    "detected_tanscripts['global_x_pixels'] = global_x_pixels\n",
    "detected_tanscripts['global_y_pixels'] = global_y_pixels\n",
    "detected_tanscripts['global_z_pixels'] = global_z_pixels"
   ]
  },
  {
   "cell_type": "code",
   "execution_count": 19,
   "id": "ef138d5c",
   "metadata": {},
   "outputs": [],
   "source": [
    "cell_assigments = segments_array[detected_tanscripts.global_y_pixels.values.astype(int), detected_tanscripts.global_x_pixels.values.astype(int)]"
   ]
  },
  {
   "cell_type": "code",
   "execution_count": 20,
   "id": "12322bc7",
   "metadata": {},
   "outputs": [],
   "source": [
    "detected_tanscripts['nucleus_id'] = cell_assigments"
   ]
  },
  {
   "cell_type": "code",
   "execution_count": 21,
   "id": "3b558d4c",
   "metadata": {},
   "outputs": [],
   "source": [
    "cellxgene = pd.crosstab(index=detected_tanscripts.nucleus_id, columns=detected_tanscripts.feature_name)"
   ]
  },
  {
   "cell_type": "code",
   "execution_count": 22,
   "id": "87a572ac",
   "metadata": {},
   "outputs": [],
   "source": [
    "detected_tanscripts['overlaps_nucleus'] = (cell_assigments > 0).astype(int)"
   ]
  },
  {
   "cell_type": "code",
   "execution_count": 23,
   "id": "947f0993",
   "metadata": {},
   "outputs": [],
   "source": [
    "metadata = detected_tanscripts[['global_x_pixels', 'global_y_pixels', 'nucleus_id']].groupby('nucleus_id').mean()[['global_x_pixels', 'global_y_pixels']]"
   ]
  },
  {
   "cell_type": "code",
   "execution_count": null,
   "id": "cbb8c700",
   "metadata": {},
   "outputs": [],
   "source": [
    "\n",
    "ad = sc.AnnData(X=cellxgene.values, var=pd.DataFrame(index=cellxgene.columns), obs=pd.DataFrame(index=cellxgene.index))\n"
   ]
  },
  {
   "cell_type": "code",
   "execution_count": 26,
   "id": "f7ff4cbb",
   "metadata": {},
   "outputs": [],
   "source": [
    "metadata.index = metadata.index.astype(str)"
   ]
  },
  {
   "cell_type": "code",
   "execution_count": 27,
   "id": "15551640",
   "metadata": {},
   "outputs": [],
   "source": [
    "ad.obs = ad.obs.merge(metadata, left_index=True, right_index=True, how='left')"
   ]
  },
  {
   "cell_type": "code",
   "execution_count": 28,
   "id": "e851f842",
   "metadata": {},
   "outputs": [],
   "source": [
    "ad.obsm['X_spatial'] = ad.obs[['global_x_pixels', 'global_y_pixels']].values"
   ]
  },
  {
   "cell_type": "code",
   "execution_count": null,
   "id": "9c1c274b",
   "metadata": {},
   "outputs": [],
   "source": [
    "sc.set_figure_params(dpi=400)\n",
    "sc.pl.embedding(ad, basis='spatial', color='Cd8a', vmax = 5, cmap='Blues', vmin = -0.8)"
   ]
  },
  {
   "cell_type": "code",
   "execution_count": null,
   "id": "4a085570",
   "metadata": {},
   "outputs": [],
   "source": [
    "window_min = 10000\n",
    "window_max = 11000\n",
    "\n",
    "sub_detected_tanscripts = detected_tanscripts[(detected_tanscripts.global_y_pixels > window_min) & (detected_tanscripts.global_y_pixels < window_max)]\n",
    "sub_detected_tanscripts = sub_detected_tanscripts[(sub_detected_tanscripts.global_x_pixels > window_min) & (sub_detected_tanscripts.global_x_pixels < window_max)]\n",
    "# Create figure with two subplots\n",
    "fig, (ax1, ax2) = plt.subplots(1, 2, figsize=(12, 6))\n",
    "# Create categorical color mapping for nucleus IDs\n",
    "unique_nuclei = sub_detected_tanscripts.nucleus_id.unique()\n",
    "nucleus_colors = {nuc_id: f'C{i%10}' for i, nuc_id in enumerate(unique_nuclei)}\n",
    "# First subplot - just the image\n",
    "ax1.imshow(data_zarr[window_min:window_max, window_min:window_max], cmap='viridis')\n",
    "for nuc_id in unique_nuclei:\n",
    "    mask = (sub_detected_tanscripts.nucleus_id == nuc_id) & (sub_detected_tanscripts.feature_name == 'Cd8a')\n",
    "    ax1.scatter(sub_detected_tanscripts[mask].global_x_pixels - window_min, \n",
    "               sub_detected_tanscripts[mask].global_y_pixels - window_min,\n",
    "               c='red',\n",
    "               label=f'Nucleus {nuc_id}',\n",
    "               s=5, alpha=1)\n",
    "ax1.set_title('DAPI + CD8A')\n",
    "\n",
    "# Second subplot - image with scattered points\n",
    "ax2.imshow(data_zarr[window_min:window_max, window_min:window_max], cmap='Reds')\n",
    "\n",
    "\n",
    "\n",
    "# Plot each nucleus ID with its categorical color\n",
    "for nuc_id in unique_nuclei:\n",
    "    mask = sub_detected_tanscripts.nucleus_id == nuc_id\n",
    "    ax2.scatter(sub_detected_tanscripts[mask].global_x_pixels - window_min, \n",
    "               sub_detected_tanscripts[mask].global_y_pixels - window_min,\n",
    "               c=nucleus_colors[nuc_id],\n",
    "               label=f'Nucleus {nuc_id}',\n",
    "               s=0.5, alpha=1, linewidths=0)\n",
    "\n",
    "ax2.set_title('Image with Nuclear Assignments')\n",
    "\n",
    "plt.tight_layout()\n",
    "plt.show()"
   ]
  },
  {
   "cell_type": "code",
   "execution_count": 31,
   "id": "eeca2156",
   "metadata": {},
   "outputs": [],
   "source": [
    "ad.write(os.path.join(experiment_path, 'nucleus_segmentation_adata.h5ad'))"
   ]
  },
  {
   "cell_type": "code",
   "execution_count": 34,
   "id": "e4d0f692",
   "metadata": {},
   "outputs": [],
   "source": [
    "detected_tanscripts.drop(columns=['cell_id', 'fov_name', 'codeword_index', 'codeword_category', 'is_gene'], inplace=True)"
   ]
  },
  {
   "cell_type": "code",
   "execution_count": 35,
   "id": "81e3a478",
   "metadata": {},
   "outputs": [],
   "source": [
    "detected_tanscripts.to_csv(os.path.join(experiment_path, \"transcripts_cellpose.csv\"))"
   ]
  }
 ],
 "metadata": {
  "kernelspec": {
   "display_name": "Python 3",
   "language": "python",
   "name": "python3"
  },
  "language_info": {
   "codemirror_mode": {
    "name": "ipython",
    "version": 3
   },
   "file_extension": ".py",
   "mimetype": "text/x-python",
   "name": "python",
   "nbconvert_exporter": "python",
   "pygments_lexer": "ipython3",
   "version": "3.10.16"
  }
 },
 "nbformat": 4,
 "nbformat_minor": 5
}
