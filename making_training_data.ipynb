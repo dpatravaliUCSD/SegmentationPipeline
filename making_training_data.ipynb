{
 "cells": [
  {
   "cell_type": "code",
   "execution_count": 1,
   "metadata": {},
   "outputs": [],
   "source": [
    "import imageio as io\n",
    "import pandas as pd\n",
    "import os\n",
    "import matplotlib.pyplot as plt\n",
    "import numpy as np\n",
    "import tifffile\n",
    "from tqdm.notebook import tqdm\n",
    "import pathlib\n",
    "from cellpose import models, core\n",
    "import json\n",
    "import pathlib\n",
    "from pyometiff import OMETIFFReader\n",
    "import PIL\n",
    "PIL.Image.MAX_IMAGE_PIXELS = 6407680645\n"
   ]
  },
  {
   "cell_type": "code",
   "execution_count": 2,
   "metadata": {},
   "outputs": [],
   "source": [
    "experiment_path = '/mnt/sata3/Xenium_Data_Storage_2/20250109__205605__perturb4_mc38baseline/output-XETG00341__0032973__mc38baseline_t1_AG001__20250109__205626'\n",
    "dapi_path = 'morphology.ome.tif'"
   ]
  },
  {
   "cell_type": "code",
   "execution_count": 3,
   "metadata": {},
   "outputs": [
    {
     "name": "stdout",
     "output_type": "stream",
     "text": [
      "Key not found: 'NoneType' object has no attribute 'iter'\n",
      "Key not found: 'NoneType' object has no attribute 'iter'\n"
     ]
    }
   ],
   "source": [
    "\n",
    "img_fpath = pathlib.Path(os.path.join(experiment_path, dapi_path))\n",
    "\n",
    "reader = OMETIFFReader(fpath=img_fpath)\n",
    "\n",
    "img_array, metadata, xml_metadata = reader.read()"
   ]
  },
  {
   "cell_type": "code",
   "execution_count": 4,
   "metadata": {},
   "outputs": [],
   "source": [
    "\n",
    "sub_img_array = np.max(img_array, axis = 0)"
   ]
  },
  {
   "cell_type": "code",
   "execution_count": 5,
   "metadata": {},
   "outputs": [],
   "source": [
    "cellpose_training_folder = '/mnt/sata4/cellpose_training'\n",
    "total_path = os.path.join(cellpose_training_folder, os.path.basename(experiment_path))"
   ]
  },
  {
   "cell_type": "code",
   "execution_count": 6,
   "metadata": {},
   "outputs": [],
   "source": [
    "try:\n",
    "    os.makedirs(total_path)\n",
    "except:\n",
    "    print('Folder already exists')\n"
   ]
  },
  {
   "cell_type": "code",
   "execution_count": 8,
   "metadata": {},
   "outputs": [],
   "source": [
    "\n",
    "#Define the chunk size\n",
    "chunk_size = (1000, 1000)\n",
    "\n",
    "ct = 0\n",
    "for i in range(0, sub_img_array.shape[1], int(chunk_size[1]/2)):\n",
    "    for j in range(0, sub_img_array.shape[0], int(chunk_size[0]/2)):\n",
    "        # Define the coordinates for cropping\n",
    "        left = i\n",
    "        upper = j\n",
    "        right = i + chunk_size[1]\n",
    "        lower = j + chunk_size[0]\n",
    "\n",
    "        # Crop the image chunk\n",
    "        chunk = sub_img_array[upper:lower, left:right]\n",
    "\n",
    "        if ct % 10 == 0:\n",
    "            io.imwrite(os.path.join(total_path, f'chunk_{i}_{j}.tiff'), chunk)\n",
    "        ct += 1\n"
   ]
  },
  {
   "cell_type": "code",
   "execution_count": null,
   "metadata": {},
   "outputs": [],
   "source": []
  }
 ],
 "metadata": {
  "kernelspec": {
   "display_name": "Python 3",
   "language": "python",
   "name": "python3"
  },
  "language_info": {
   "codemirror_mode": {
    "name": "ipython",
    "version": 3
   },
   "file_extension": ".py",
   "mimetype": "text/x-python",
   "name": "python",
   "nbconvert_exporter": "python",
   "pygments_lexer": "ipython3",
   "version": "3.10.16"
  }
 },
 "nbformat": 4,
 "nbformat_minor": 2
}
